{
  "cells": [
    {
      "cell_type": "markdown",
      "id": "736887bb",
      "metadata": {
        "id": "736887bb"
      },
      "source": [
        "# Python Exercises - Easy Level\n",
        "\n",
        "These exercises test basic Python concepts including:\n",
        "- Variables and data types\n",
        "- Basic arithmetic operations\n",
        "- Simple functions\n",
        "- Basic conditionals\n",
        "- String operations\n",
        "- Lists and basic operations\n",
        "\n",
        "**Instructions:** Complete each exercise by writing Python code in the provided cells."
      ]
    },
    {
      "cell_type": "markdown",
      "id": "1fcc41ef",
      "metadata": {
        "id": "1fcc41ef"
      },
      "source": [
        "## Question 1: Variables and Data Types\n",
        "\n",
        "Create variables for the following:\n",
        "- `name` (string): Your name\n",
        "- `age` (integer): Your age\n",
        "- `height` (float): Your height in meters\n",
        "- `is_student` (boolean): Whether you are a student\n",
        "\n",
        "Print each variable along with its type."
      ]
    },
    {
      "cell_type": "code",
      "execution_count": 1,
      "id": "6aacf345",
      "metadata": {
        "id": "6aacf345"
      },
      "outputs": [
        {
          "name": "stdout",
          "output_type": "stream",
          "text": [
            "Meheraj 24 5.9 True\n"
          ]
        }
      ],
      "source": [
        "# Your code here\n",
        "name = 'Meheraj'\n",
        "age = 24\n",
        "height = 5.9\n",
        "is_student = True\n",
        "\n",
        "print(name, age, height, is_student)"
      ]
    },
    {
      "cell_type": "markdown",
      "id": "2c1683e1",
      "metadata": {
        "id": "2c1683e1"
      },
      "source": [
        "## Question 2: Basic Arithmetic\n",
        "\n",
        "Given two numbers `a = 15` and `b = 4`, calculate and print:\n",
        "- Sum\n",
        "- Difference\n",
        "- Product\n",
        "- True division\n",
        "- Floor division\n",
        "- Remainder (modulus)\n",
        "- `a` raised to the power of `b`"
      ]
    },
    {
      "cell_type": "code",
      "execution_count": 2,
      "id": "86d758e2",
      "metadata": {
        "id": "86d758e2"
      },
      "outputs": [
        {
          "name": "stdout",
          "output_type": "stream",
          "text": [
            "Sum :  19\n",
            "Difference :  11\n",
            "Product :  60\n",
            "True Division :  3.75\n",
            "Floor Division :  3\n",
            "Remainder(modulus) :  3\n",
            "Power:  50625\n"
          ]
        }
      ],
      "source": [
        "a = 15\n",
        "b = 4\n",
        "\n",
        "# Your code here\n",
        "print(\"Sum : \", a+b)\n",
        "print(\"Difference : \", a-b)\n",
        "print(\"Product : \", a*b)\n",
        "print(\"True Division : \", a/b)\n",
        "print(\"Floor Division : \", a//b)\n",
        "print(\"Remainder(modulus) : \", a%b)\n",
        "print(\"Power: \", a**b)"
      ]
    },
    {
      "cell_type": "markdown",
      "id": "e49abb2e",
      "metadata": {
        "id": "e49abb2e"
      },
      "source": [
        "## Question 3: Simple Function\n",
        "\n",
        "Write a function called `greet_user` that:\n",
        "- Takes a name as a parameter\n",
        "- Returns a greeting message like \"Hello, [name]!\"\n",
        "- Test it with your name"
      ]
    },
    {
      "cell_type": "code",
      "execution_count": 4,
      "id": "34a366ec",
      "metadata": {
        "id": "34a366ec"
      },
      "outputs": [
        {
          "name": "stdout",
          "output_type": "stream",
          "text": [
            "My name is  Meheraj\n"
          ]
        }
      ],
      "source": [
        "# Your code here\n",
        "def greet_user(name):\n",
        "    print(\"My name is \", name)\n",
        "\n",
        "greet_user(\"Meheraj\")"
      ]
    },
    {
      "cell_type": "markdown",
      "id": "f73d26e6",
      "metadata": {
        "id": "f73d26e6"
      },
      "source": [
        "## Question 4: Basic Conditionals\n",
        "\n",
        "Write a function called `check_number` that:\n",
        "- Takes a number as input\n",
        "- Returns \"positive\" if the number is greater than 0\n",
        "- Returns \"negative\" if the number is less than 0\n",
        "- Returns \"zero\" if the number equals 0\n",
        "\n",
        "Test with numbers: 5, -3, 0"
      ]
    },
    {
      "cell_type": "code",
      "execution_count": 6,
      "id": "19ae4d41",
      "metadata": {
        "id": "19ae4d41"
      },
      "outputs": [
        {
          "name": "stdout",
          "output_type": "stream",
          "text": [
            "positive\n"
          ]
        }
      ],
      "source": [
        "# Your code here\n",
        "num = int(input(\"Input a number: \"))\n",
        "\n",
        "if num > 0:\n",
        "    print(\"positive\")\n",
        "elif num < 0:\n",
        "    print(\"negative\")\n",
        "else:\n",
        "    print(\"zero\")"
      ]
    },
    {
      "cell_type": "markdown",
      "id": "c8b83226",
      "metadata": {
        "id": "c8b83226"
      },
      "source": [
        "## Question 5: String Operations\n",
        "\n",
        "Given the string `text = \"Python Programming\"`, perform the following operations:\n",
        "- Print the length of the string\n",
        "- Convert to uppercase\n",
        "- Convert to lowercase\n",
        "- Check if it starts with \"Python\"\n",
        "- Replace \"Programming\" with \"is Fun\""
      ]
    },
    {
      "cell_type": "code",
      "execution_count": 8,
      "id": "f8221848",
      "metadata": {
        "id": "f8221848"
      },
      "outputs": [
        {
          "name": "stdout",
          "output_type": "stream",
          "text": [
            "Length of the string: 18\n",
            "Uppercase: PYTHON PROGRAMMING\n",
            "Lowercase: python programming\n",
            "Starts with 'Python': True\n",
            "Replaced text: Python is Fun\n"
          ]
        }
      ],
      "source": [
        "text = \"Python Programming\"\n",
        "\n",
        "# Your code here\n",
        "text = \"Python Programming\"\n",
        "print(\"Length of the string:\", len(text))\n",
        "print(\"Uppercase:\", text.upper())\n",
        "print(\"Lowercase:\", text.lower())\n",
        "print(\"Starts with 'Python':\", text.startswith(\"Python\"))\n",
        "print(\"Replaced text:\", text.replace(\"Programming\", \"is Fun\"))"
      ]
    },
    {
      "cell_type": "markdown",
      "id": "61723857",
      "metadata": {
        "id": "61723857"
      },
      "source": [
        "## Question 6: Basic Lists\n",
        "\n",
        "Create a list called `fruits` with the following items: \"apple\", \"banana\", \"orange\", \"grape\"\n",
        "\n",
        "Then:\n",
        "- Print the first fruit\n",
        "- Print the last fruit\n",
        "- Add \"mango\" to the end of the list\n",
        "- Print the length of the list\n",
        "- Check if \"banana\" is in the list"
      ]
    },
    {
      "cell_type": "code",
      "execution_count": null,
      "id": "3bc3bb66",
      "metadata": {
        "id": "3bc3bb66"
      },
      "outputs": [
        {
          "name": "stdout",
          "output_type": "stream",
          "text": [
            "First fruit: apple\n",
            "Last fruit: grape\n",
            "After adding mango: ['apple', 'banana', 'orange', 'grape', 'mango']\n",
            "Length of list: 5\n",
            "Is exists? True\n"
          ]
        }
      ],
      "source": [
        "# Your code here\n",
        "\n",
        "fruits = [\"apple\", \"banana\", \"orange\", \"grape\"]\n",
        "print(\"First fruit:\", fruits[0])\n",
        "print(\"Last fruit:\", fruits[-1])\n",
        "fruits.append(\"mango\")\n",
        "print(\"After adding mango:\", fruits)\n",
        "print(\"Length:\", len(fruits))\n",
        "print(\"Is exists?\", \"banana\" in fruits)"
      ]
    },
    {
      "cell_type": "markdown",
      "id": "ae8ce51f",
      "metadata": {
        "id": "ae8ce51f"
      },
      "source": [
        "## Question 7: Simple Loop\n",
        "\n",
        "Write a function called `count_to_n` that:\n",
        "- Takes a number `n` as input\n",
        "- Prints all numbers from 1 to n (inclusive)\n",
        "- Test it with n = 5"
      ]
    },
    {
      "cell_type": "code",
      "execution_count": 11,
      "id": "af9b0da0",
      "metadata": {
        "id": "af9b0da0"
      },
      "outputs": [
        {
          "name": "stdout",
          "output_type": "stream",
          "text": [
            "Counting to 5:\n",
            "1\n",
            "2\n",
            "3\n",
            "4\n",
            "5\n"
          ]
        }
      ],
      "source": [
        "# Your code here\n",
        "def count_to_n(n):\n",
        "    for i in range(1, n + 1):\n",
        "        print(i)\n",
        "\n",
        "print(\"Counting to 5:\")\n",
        "count_to_n(5)"
      ]
    },
    {
      "cell_type": "markdown",
      "id": "2cc13587",
      "metadata": {
        "id": "2cc13587"
      },
      "source": [
        "## Question 8: Using Built-in Functions\n",
        "\n",
        "Given the list `numbers = [3, 7, 1, 9, 4, 6, 2]`, use built-in functions to find:\n",
        "- The maximum value\n",
        "- The minimum value\n",
        "- The sum of all numbers\n",
        "- The length of the list\n",
        "- A sorted version of the list (without modifying the original)"
      ]
    },
    {
      "cell_type": "code",
      "execution_count": 13,
      "id": "26746fbe",
      "metadata": {
        "id": "26746fbe"
      },
      "outputs": [
        {
          "name": "stdout",
          "output_type": "stream",
          "text": [
            "Maximum value: 9\n",
            "Minimum value: 1\n",
            "Sum: 32\n",
            "Length: 7\n",
            "Sorted list: [1, 2, 3, 4, 6, 7, 9]\n",
            "Original list: [3, 7, 1, 9, 4, 6, 2]\n"
          ]
        }
      ],
      "source": [
        "numbers = [3, 7, 1, 9, 4, 6, 2]\n",
        "\n",
        "# Your code here\n",
        "numbers = [3, 7, 1, 9, 4, 6, 2]\n",
        "print(\"Maximum value:\", max(numbers))\n",
        "print(\"Minimum value:\", min(numbers))\n",
        "print(\"Sum:\", sum(numbers))\n",
        "print(\"Length:\", len(numbers))\n",
        "sorted_numbers = sorted(numbers)\n",
        "print(\"Sorted list:\", sorted_numbers)\n",
        "\n",
        "print(\"Original list:\", numbers)"
      ]
    },
    {
      "cell_type": "markdown",
      "id": "35f186ed",
      "metadata": {
        "id": "35f186ed"
      },
      "source": [
        "## Question 9: String Formatting\n",
        "\n",
        "Create variables for a person's information:\n",
        "- `person_name = \"Alice\"`\n",
        "- `person_age = 25`\n",
        "- `person_city = \"New York\"`\n",
        "\n",
        "Use string formatting to create and print a message: \"Hello, my name is Alice, I am 25 years old and I live in New York.\""
      ]
    },
    {
      "cell_type": "code",
      "execution_count": null,
      "id": "1017d81a",
      "metadata": {
        "id": "1017d81a"
      },
      "outputs": [],
      "source": [
        "person_name = \"Alice\"\n",
        "person_age = 25\n",
        "person_city = \"New York\"\n",
        "\n",
        "# Your code here\n",
        "person_name = \"Alice\"\n",
        "person_age = 25\n",
        "person_city = \"New York\"\n",
        "\n",
        "print(f\"Hello, my name is {person_name}, I am {person_age} years old and I live in {person_city}.\")"
      ]
    },
    {
      "cell_type": "markdown",
      "id": "ac12b004",
      "metadata": {
        "id": "ac12b004"
      },
      "source": [
        "## Question 10: Simple Calculator\n",
        "\n",
        "Write a function called `simple_calculator` that:\n",
        "- Takes three parameters: `num1`, `operator` (as a string: \"+\", \"-\", \"*\", \"/\"), and `num2`\n",
        "- Returns the result of the operation\n",
        "- Test with: 10, \"+\", 5 and 20, \"/\", 4"
      ]
    },
    {
      "cell_type": "code",
      "execution_count": 14,
      "id": "e91743d6",
      "metadata": {
        "id": "e91743d6"
      },
      "outputs": [
        {
          "name": "stdout",
          "output_type": "stream",
          "text": [
            "15\n",
            "5.0\n"
          ]
        }
      ],
      "source": [
        "# Your code here\n",
        "def simple_calculator(num1, operator, num2):\n",
        "    if operator == \"+\":\n",
        "        return num1 + num2\n",
        "    elif operator == \"-\":\n",
        "        return num1 - num2\n",
        "    elif operator == \"*\":\n",
        "        return num1 * num2\n",
        "    elif operator == \"/\":\n",
        "        return num1 / num2\n",
        "    else:\n",
        "        return \"Invalid operator\"\n",
        "\n",
        "print(simple_calculator(10, \"+\", 5))  \n",
        "print(simple_calculator(20, \"/\", 4))  "
      ]
    }
  ],
  "metadata": {
    "colab": {
      "provenance": []
    },
    "kernelspec": {
      "display_name": "base",
      "language": "python",
      "name": "python3"
    },
    "language_info": {
      "codemirror_mode": {
        "name": "ipython",
        "version": 3
      },
      "file_extension": ".py",
      "mimetype": "text/x-python",
      "name": "python",
      "nbconvert_exporter": "python",
      "pygments_lexer": "ipython3",
      "version": "3.12.7"
    }
  },
  "nbformat": 4,
  "nbformat_minor": 5
}
