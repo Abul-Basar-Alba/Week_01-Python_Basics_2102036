{
 "cells": [
  {
   "cell_type": "markdown",
   "id": "58f3c807",
   "metadata": {},
   "source": [
    "# Python Exercises - Medium Level\n",
    "\n",
    "These exercises test intermediate Python concepts including:\n",
    "- Functions with multiple parameters and return values\n",
    "- List comprehensions\n",
    "- Dictionary operations\n",
    "- Advanced string manipulation\n",
    "- Nested loops and conditionals\n",
    "- Working with multiple data structures\n",
    "\n",
    "**Instructions:** Complete each exercise by writing Python code in the provided cells."
   ]
  },
  {
   "cell_type": "markdown",
   "id": "2eaf75cb",
   "metadata": {},
   "source": [
    "## Question 1: Function with Multiple Return Values\n",
    "\n",
    "Write a function called `analyze_numbers` that:\n",
    "- Takes a list of numbers as input\n",
    "- Returns a tuple containing: (sum, average, maximum, minimum)\n",
    "- Test with the list: [4, 7, 2, 9, 1, 6, 8, 3]"
   ]
  },
  {
   "cell_type": "code",
   "execution_count": 1,
   "id": "e6bb2f78",
   "metadata": {},
   "outputs": [
    {
     "name": "stdout",
     "output_type": "stream",
     "text": [
      "(40, 5.0, 9, 1)\n"
     ]
    }
   ],
   "source": [
    "def analyze_numbers(numbers):\n",
    "    total = sum(numbers)\n",
    "    avg = total / len(numbers)\n",
    "    maximum = max(numbers)\n",
    "    minimum = min(numbers)\n",
    "    return (total, avg, maximum, minimum)\n",
    "\n",
    "# Test\n",
    "result = analyze_numbers([4, 7, 2, 9, 1, 6, 8, 3])\n",
    "print(result)"
   ]
  },
  {
   "cell_type": "markdown",
   "id": "32aa97ad",
   "metadata": {},
   "source": [
    "## Question 2: List Comprehension Challenge\n",
    "\n",
    "Given the list `numbers = [1, 2, 3, 4, 5, 6, 7, 8, 9, 10]`, create the following using list comprehensions:\n",
    "- A list of squares of all even numbers\n",
    "- A list of numbers divisible by 3\n",
    "- A list of strings saying \"[number] is odd\" for odd numbers only"
   ]
  },
  {
   "cell_type": "code",
   "execution_count": 12,
   "id": "ca21b130",
   "metadata": {},
   "outputs": [
    {
     "name": "stdout",
     "output_type": "stream",
     "text": [
      "Squares of even numbers: [4, 16, 36, 64, 100]\n",
      "Numbers divisible by 3: [3, 6, 9]\n",
      "Odd number strings: ['1 is odd', '3 is odd', '5 is odd', '7 is odd', '9 is odd']\n"
     ]
    }
   ],
   "source": [
    "numbers = [1, 2, 3, 4, 5, 6, 7, 8, 9, 10]\n",
    "# List of squares of all even numbers\n",
    "even_squares = [n**2 for n in numbers if n % 2 == 0]\n",
    "\n",
    "# List of numbers divisible by 3\n",
    "div_by_3 = [n for n in numbers if n % 3 == 0]\n",
    "\n",
    "# List of strings for odd numbers\n",
    "odd_strings = [f\"{n} is odd\" for n in numbers if n % 2 != 0]\n",
    "\n",
    "print(\"Squares of even numbers:\", even_squares)\n",
    "print(\"Numbers divisible by 3:\", div_by_3)\n",
    "print(\"Odd number strings:\", odd_strings)"
   ]
  },
  {
   "cell_type": "markdown",
   "id": "e21948e9",
   "metadata": {},
   "source": [
    "## Question 3: Dictionary Operations\n",
    "\n",
    "Create a dictionary called `student_grades` with the following data:\n",
    "- \"Alice\": [85, 90, 78, 92]\n",
    "- \"Bob\": [76, 88, 81, 79]\n",
    "- \"Charlie\": [92, 95, 87, 91]\n",
    "\n",
    "Write a function that:\n",
    "- Calculates the average grade for each student\n",
    "- Returns a new dictionary with student names as keys and average grades as values\n",
    "- Finds and prints the student with the highest average"
   ]
  },
  {
   "cell_type": "code",
   "execution_count": 21,
   "id": "a9195b9e",
   "metadata": {},
   "outputs": [
    {
     "name": "stdout",
     "output_type": "stream",
     "text": [
      "Student with highest average: Charlie (91.25)\n",
      "{'Alice': 86.25, 'Bob': 81.0, 'Charlie': 91.25}\n"
     ]
    }
   ],
   "source": [
    "student_grades = {\n",
    "    \"Alice\": [85, 90, 78, 92],\n",
    "    \"Bob\": [76, 88, 81, 79],\n",
    "    \"Charlie\": [92, 95, 87, 91]\n",
    "}\n",
    "\n",
    "def average_grades(grades_dict):\n",
    "    avg_dict = {name: sum(grades)/len(grades) for name, grades in grades_dict.items()}\n",
    "    highest_student = max(avg_dict, key=avg_dict.get)\n",
    "    print(f\"Student with highest average: {highest_student} ({avg_dict[highest_student]:.2f})\")\n",
    "    return avg_dict\n",
    "\n",
    "averages = average_grades(student_grades)\n",
    "print(averages)"
   ]
  },
  {
   "cell_type": "markdown",
   "id": "34bc3073",
   "metadata": {},
   "source": [
    "## Question 4: String Processing\n",
    "\n",
    "Write a function called `word_frequency` that:\n",
    "- Takes a sentence as input\n",
    "- Returns a dictionary with each word as a key and its frequency as the value\n",
    "- Words should be case-insensitive\n",
    "- Test with: \"The quick brown fox jumps over the lazy dog the dog was lazy\""
   ]
  },
  {
   "cell_type": "code",
   "execution_count": 29,
   "id": "01e394fa",
   "metadata": {},
   "outputs": [
    {
     "name": "stdout",
     "output_type": "stream",
     "text": [
      "{'the': 3, 'quick': 1, 'brown': 1, 'fox': 1, 'jumps': 1, 'over': 1, 'lazy': 2, 'dog': 2, 'was': 1}\n"
     ]
    }
   ],
   "source": [
    "def word_frequency(sentence):\n",
    "    words = sentence.lower().split()\n",
    "    freq = {}\n",
    "    for word in words:\n",
    "        freq[word] = freq.get(word, 0) + 1\n",
    "    return freq\n",
    "\n",
    "# Test\n",
    "test_sentence = \"The quick brown fox jumps over the lazy dog the dog was lazy\"\n",
    "print(word_frequency(test_sentence))"
   ]
  },
  {
   "cell_type": "markdown",
   "id": "fc1dcd37",
   "metadata": {},
   "source": [
    "## Question 5: Nested Loops and Pattern\n",
    "\n",
    "Write a function called `multiplication_table` that:\n",
    "- Takes a number `n` as input\n",
    "- Prints a multiplication table from 1 to n\n",
    "- Format the output nicely with proper alignment\n",
    "- Test with n = 5"
   ]
  },
  {
   "cell_type": "code",
   "execution_count": 36,
   "id": "f2a6b9ae",
   "metadata": {},
   "outputs": [
    {
     "name": "stdout",
     "output_type": "stream",
     "text": [
      "       1   2   3   4   5\n",
      "   --------------------\n",
      " 1 |   1   2   3   4   5\n",
      " 2 |   2   4   6   8  10\n",
      " 3 |   3   6   9  12  15\n",
      " 4 |   4   8  12  16  20\n",
      " 5 |   5  10  15  20  25\n"
     ]
    }
   ],
   "source": [
    "def multiplication_table(n):\n",
    "    # Print header row\n",
    "    print(\"    \", end=\"\")\n",
    "    for i in range(1, n+1):\n",
    "        print(f\"{i:4}\", end=\"\")\n",
    "    print()\n",
    "    print(\"   \" + \"-\" * (4 * n))\n",
    "    # Print table rows\n",
    "    for i in range(1, n+1):\n",
    "        print(f\"{i:2} |\", end=\"\")\n",
    "        for j in range(1, n+1):\n",
    "            print(f\"{i*j:4}\", end=\"\")\n",
    "        print()\n",
    "\n",
    "# Test with n = 5\n",
    "multiplication_table(5)"
   ]
  },
  {
   "cell_type": "markdown",
   "id": "b9ba0917",
   "metadata": {},
   "source": [
    "## Question 6: List Manipulation\n",
    "\n",
    "Write a function called `remove_duplicates` that:\n",
    "- Takes a list as input\n",
    "- Returns a new list with duplicates removed while preserving the original order\n",
    "- Don't use the set() function\n",
    "- Test with: [1, 2, 2, 3, 4, 4, 5, 1, 6]"
   ]
  },
  {
   "cell_type": "code",
   "execution_count": 43,
   "id": "2dca29ce",
   "metadata": {},
   "outputs": [
    {
     "name": "stdout",
     "output_type": "stream",
     "text": [
      "[1, 2, 3, 4, 5, 6]\n"
     ]
    }
   ],
   "source": [
    "def remove_duplicates(lst):\n",
    "    seen = []\n",
    "    result = []\n",
    "    for item in lst:\n",
    "        if item not in seen:\n",
    "            seen.append(item)\n",
    "            result.append(item)\n",
    "    return result\n",
    "\n",
    "# Test\n",
    "test_list = [1, 2, 2, 3, 4, 4, 5, 1, 6]\n",
    "print(remove_duplicates(test_list))"
   ]
  },
  {
   "cell_type": "markdown",
   "id": "fabb21b6",
   "metadata": {},
   "source": [
    "## Question 7: Advanced String Formatting\n",
    "\n",
    "Given the following data about products:\n",
    "```python\n",
    "products = [\n",
    "    {\"name\": \"Laptop\", \"price\": 999.99, \"quantity\": 5},\n",
    "    {\"name\": \"Mouse\", \"price\": 25.50, \"quantity\": 20},\n",
    "    {\"name\": \"Keyboard\", \"price\": 75.00, \"quantity\": 15}\n",
    "]\n",
    "```\n",
    "\n",
    "Create a formatted report that shows:\n",
    "- Product name\n",
    "- Price\n",
    "- Quantity\n",
    "- Total value (price × quantity, right-aligned, 2 decimal places)"
   ]
  },
  {
   "cell_type": "code",
   "execution_count": 48,
   "id": "153b7266",
   "metadata": {},
   "outputs": [
    {
     "name": "stdout",
     "output_type": "stream",
     "text": [
      "Product       Price   Quantity     Total Value\n",
      "---------------------------------------------\n",
      "Laptop       999.99          5         4999.95\n",
      "Mouse         25.50         20          510.00\n",
      "Keyboard      75.00         15         1125.00\n"
     ]
    }
   ],
   "source": [
    "products = [\n",
    "    {\"name\": \"Laptop\", \"price\": 999.99, \"quantity\": 5},\n",
    "    {\"name\": \"Mouse\", \"price\": 25.50, \"quantity\": 20},\n",
    "    {\"name\": \"Keyboard\", \"price\": 75.00, \"quantity\": 15}\n",
    "]\n",
    "\n",
    "\n",
    "print(f\"{'Product':<10} {'Price':>8} {'Quantity':>10} {'Total Value':>15}\")\n",
    "print(\"-\" * 45)\n",
    "for p in products:\n",
    "    total = p['price'] * p['quantity']\n",
    "    print(f\"{p['name']:<10} {p['price']:>8.2f} {p['quantity']:>10} {total:>15.2f}\")"
   ]
  },
  {
   "cell_type": "markdown",
   "id": "f2458f23",
   "metadata": {},
   "source": [
    "## Question 8: Function as Parameter\n",
    "\n",
    "Write a function called `apply_operation` that:\n",
    "- Takes a list of numbers and a function as parameters\n",
    "- Applies the function to each number in the list\n",
    "- Returns a new list with the results\n",
    "\n",
    "Then create two simple functions:\n",
    "- `square(x)`: returns x squared\n",
    "- `cube(x)`: returns x cubed\n",
    "\n",
    "Test `apply_operation` with both functions using the list [1, 2, 3, 4, 5]"
   ]
  },
  {
   "cell_type": "code",
   "execution_count": 52,
   "id": "7bdb2761",
   "metadata": {},
   "outputs": [
    {
     "name": "stdout",
     "output_type": "stream",
     "text": [
      "Squares: [1, 4, 9, 16, 25]\n",
      "Cubes: [1, 8, 27, 64, 125]\n"
     ]
    }
   ],
   "source": [
    "def apply_operation(numbers, func):\n",
    "    return [func(n) for n in numbers]\n",
    "\n",
    "def square(x):\n",
    "    return x ** 2\n",
    "\n",
    "def cube(x):\n",
    "    return x ** 3\n",
    "\n",
    "test_numbers = [1, 2, 3, 4, 5]\n",
    "print(\"Squares:\", apply_operation(test_numbers, square))\n",
    "print(\"Cubes:\", apply_operation(test_numbers, cube))"
   ]
  },
  {
   "cell_type": "markdown",
   "id": "501a6617",
   "metadata": {},
   "source": [
    "## Question 9: Data Processing Challenge\n",
    "\n",
    "Given a list of dictionaries representing students:\n",
    "```python\n",
    "students = [\n",
    "    {\"name\": \"Alice\", \"age\": 20, \"major\": \"Computer Science\", \"gpa\": 3.8},\n",
    "    {\"name\": \"Bob\", \"age\": 19, \"major\": \"Mathematics\", \"gpa\": 3.6},\n",
    "    {\"name\": \"Charlie\", \"age\": 21, \"major\": \"Computer Science\", \"gpa\": 3.9},\n",
    "    {\"name\": \"Diana\", \"age\": 20, \"major\": \"Physics\", \"gpa\": 3.7}\n",
    "]\n",
    "```\n",
    "\n",
    "Write functions to:\n",
    "1. Find all students with GPA above 3.7\n",
    "2. Group students by major\n",
    "3. Find the average age of students in each major"
   ]
  },
  {
   "cell_type": "code",
   "execution_count": 55,
   "id": "df50a1fe",
   "metadata": {},
   "outputs": [
    {
     "name": "stdout",
     "output_type": "stream",
     "text": [
      "Students with GPA > 3.7: [{'name': 'Alice', 'age': 20, 'major': 'Computer Science', 'gpa': 3.8}, {'name': 'Charlie', 'age': 21, 'major': 'Computer Science', 'gpa': 3.9}]\n",
      "Grouped by major: {'Computer Science': [{'name': 'Alice', 'age': 20, 'major': 'Computer Science', 'gpa': 3.8}, {'name': 'Charlie', 'age': 21, 'major': 'Computer Science', 'gpa': 3.9}], 'Mathematics': [{'name': 'Bob', 'age': 19, 'major': 'Mathematics', 'gpa': 3.6}], 'Physics': [{'name': 'Diana', 'age': 20, 'major': 'Physics', 'gpa': 3.7}]}\n",
      "Average age by major: {'Computer Science': 20.5, 'Mathematics': 19.0, 'Physics': 20.0}\n"
     ]
    }
   ],
   "source": [
    "students = [\n",
    "    {\"name\": \"Alice\", \"age\": 20, \"major\": \"Computer Science\", \"gpa\": 3.8},\n",
    "    {\"name\": \"Bob\", \"age\": 19, \"major\": \"Mathematics\", \"gpa\": 3.6},\n",
    "    {\"name\": \"Charlie\", \"age\": 21, \"major\": \"Computer Science\", \"gpa\": 3.9},\n",
    "    {\"name\": \"Diana\", \"age\": 20, \"major\": \"Physics\", \"gpa\": 3.7}\n",
    "]\n",
    "\n",
    "\n",
    "\n",
    "def students_with_gpa_above(students, threshold):\n",
    "    return [s for s in students if s['gpa'] > threshold]\n",
    "\n",
    "def group_students_by_major(students):\n",
    "    majors = {}\n",
    "    for s in students:\n",
    "        majors.setdefault(s['major'], []).append(s)\n",
    "    return majors\n",
    "\n",
    "def average_age_by_major(students):\n",
    "    majors = group_students_by_major(students)\n",
    "    avg_ages = {}\n",
    "    for major, group in majors.items():\n",
    "        avg_ages[major] = sum(s['age'] for s in group) / len(group)\n",
    "    return avg_ages\n",
    "\n",
    "# Test the functions\n",
    "print(\"Students with GPA > 3.7:\", students_with_gpa_above(students, 3.7))\n",
    "print(\"Grouped by major:\", group_students_by_major(students))\n",
    "print(\"Average age by major:\", average_age_by_major(students))"
   ]
  },
  {
   "cell_type": "markdown",
   "id": "58f3fcde",
   "metadata": {},
   "source": [
    "## Question 10: Password Validator\n",
    "\n",
    "Write a function called `validate_password` that checks if a password meets these criteria:\n",
    "- At least 8 characters long\n",
    "- Contains at least one uppercase letter\n",
    "- Contains at least one lowercase letter\n",
    "- Contains at least one digit\n",
    "- Contains at least one special character (!@#$%^&*)\n",
    "\n",
    "The function should return a dictionary with:\n",
    "- \"valid\": True/False\n",
    "- \"messages\": List of specific requirements that failed\n",
    "\n",
    "Test with passwords: \"Password123!\", \"weak\", \"NoDigits!\""
   ]
  },
  {
   "cell_type": "code",
   "execution_count": 57,
   "id": "4a37c2b0",
   "metadata": {},
   "outputs": [
    {
     "name": "stdout",
     "output_type": "stream",
     "text": [
      "{'valid': True, 'messages': []}\n",
      "{'valid': False, 'messages': ['Password must be at least 8 characters long.', 'Password must contain at least one uppercase letter.', 'Password must contain at least one digit.', 'Password must contain at least one special character (!@#$%^&*).']}\n",
      "{'valid': False, 'messages': ['Password must contain at least one digit.']}\n"
     ]
    }
   ],
   "source": [
    "import re\n",
    "\n",
    "def validate_password(password):\n",
    "    messages = []\n",
    "    if len(password) < 8:\n",
    "        messages.append(\"Password must be at least 8 characters long.\")\n",
    "    if not re.search(r'[A-Z]', password):\n",
    "        messages.append(\"Password must contain at least one uppercase letter.\")\n",
    "    if not re.search(r'[a-z]', password):\n",
    "        messages.append(\"Password must contain at least one lowercase letter.\")\n",
    "    if not re.search(r'\\d', password):\n",
    "        messages.append(\"Password must contain at least one digit.\")\n",
    "    if not re.search(r'[!@#$%^&*]', password):\n",
    "        messages.append(\"Password must contain at least one special character (!@#$%^&*).\")\n",
    "    return {\n",
    "        \"valid\": len(messages) == 0,\n",
    "        \"messages\": messages\n",
    "    }\n",
    "\n",
    "# Test cases\n",
    "print(validate_password(\"Password123!\"))\n",
    "print(validate_password(\"weak\"))\n",
    "print(validate_password(\"NoDigits!\"))"
   ]
  }
 ],
 "metadata": {
  "kernelspec": {
   "display_name": ".venv (3.13.5)",
   "language": "python",
   "name": "python3"
  },
  "language_info": {
   "codemirror_mode": {
    "name": "ipython",
    "version": 3
   },
   "file_extension": ".py",
   "mimetype": "text/x-python",
   "name": "python",
   "nbconvert_exporter": "python",
   "pygments_lexer": "ipython3",
   "version": "3.13.5"
  }
 },
 "nbformat": 4,
 "nbformat_minor": 5
}
