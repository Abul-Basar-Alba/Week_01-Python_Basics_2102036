{
  "cells": [
    {
      "cell_type": "markdown",
      "id": "736887bb",
      "metadata": {
        "id": "736887bb"
      },
      "source": [
        "# Python Exercises - Easy Level\n",
        "\n",
        "These exercises test basic Python concepts including:\n",
        "- Variables and data types\n",
        "- Basic arithmetic operations\n",
        "- Simple functions\n",
        "- Basic conditionals\n",
        "- String operations\n",
        "- Lists and basic operations\n",
        "\n",
        "**Instructions:** Complete each exercise by writing Python code in the provided cells."
      ]
    },
    {
      "cell_type": "markdown",
      "id": "1fcc41ef",
      "metadata": {
        "id": "1fcc41ef"
      },
      "source": [
        "## Question 1: Variables and Data Types\n",
        "\n",
        "Create variables for the following:\n",
        "- `name` (string): Your name\n",
        "- `age` (integer): Your age\n",
        "- `height` (float): Your height in meters\n",
        "- `is_student` (boolean): Whether you are a student\n",
        "\n",
        "Print each variable along with its type."
      ]
    },
    {
      "cell_type": "code",
      "execution_count": 1,
      "id": "6aacf345",
      "metadata": {
        "id": "6aacf345"
      },
      "outputs": [
        {
          "name": "stdout",
          "output_type": "stream",
          "text": [
            "Hello, Abul Basar!\n",
            "I am 22 years old.\n",
            "My height is 5.6 feet.\n",
            "Am I a student? True\n"
          ]
        }
      ],
      "source": [
        "# My code here\n",
        "name=\"Abul Basar\"\n",
        "print(f\"Hello, {name}!\")\n",
        "age=22\n",
        "print(f\"I am {age} years old.\")\n",
        "height=5.6\n",
        "print(f\"My height is {height} feet.\")\n",
        "iS_student=True\n",
        "print(f\"Am I a student? {iS_student}\")"
      ]
    },
    {
      "cell_type": "markdown",
      "id": "2c1683e1",
      "metadata": {
        "id": "2c1683e1"
      },
      "source": [
        "## Question 2: Basic Arithmetic\n",
        "\n",
        "Given two numbers `a = 15` and `b = 4`, calculate and print:\n",
        "- Sum\n",
        "- Difference\n",
        "- Product\n",
        "- True division\n",
        "- Floor division\n",
        "- Remainder (modulus)\n",
        "- `a` raised to the power of `b`"
      ]
    },
    {
      "cell_type": "code",
      "execution_count": 2,
      "id": "86d758e2",
      "metadata": {
        "id": "86d758e2"
      },
      "outputs": [
        {
          "name": "stdout",
          "output_type": "stream",
          "text": [
            "Sum: 19\n",
            "Difference: 11\n",
            "Product: 60\n",
            "Is 15 divisible by 4? False\n",
            "Quotient: 3\n",
            "Remainder: 3\n",
            "Exponentiation: 50625\n"
          ]
        }
      ],
      "source": [
        "a = 15\n",
        "b = 4\n",
        "\n",
        "# My code here\n",
        "print(f\"Sum: {a + b}\")\n",
        "print(f\"Difference: {a - b}\")\n",
        "print(f\"Product: {a * b}\")\n",
        "is_divisible = a % b == 0\n",
        "print(f\"Is {a} divisible by {b}? {is_divisible}\")\n",
        "print(f\"Quotient: {a // b}\")\n",
        "print(f\"Remainder: {a % b}\")\n",
        "print(f\"Exponentiation: {a ** b}\")"
      ]
    },
    {
      "cell_type": "markdown",
      "id": "e49abb2e",
      "metadata": {
        "id": "e49abb2e"
      },
      "source": [
        "## Question 3: Simple Function\n",
        "\n",
        "Write a function called `greet_user` that:\n",
        "- Takes a name as a parameter\n",
        "- Returns a greeting message like \"Hello, [name]!\"\n",
        "- Test it with your name"
      ]
    },
    {
      "cell_type": "code",
      "execution_count": 3,
      "id": "34a366ec",
      "metadata": {
        "id": "34a366ec"
      },
      "outputs": [
        {
          "name": "stdout",
          "output_type": "stream",
          "text": [
            "Hello, Abul Basar!\n"
          ]
        }
      ],
      "source": [
        "# My code here\n",
        "def greet_user(name):\n",
        "    return f\"Hello, {name}!\"\n",
        "name = \"Abul Basar\"\n",
        "print(greet_user(name))"
      ]
    },
    {
      "cell_type": "markdown",
      "id": "f73d26e6",
      "metadata": {
        "id": "f73d26e6"
      },
      "source": [
        "## Question 4: Basic Conditionals\n",
        "\n",
        "Write a function called `check_number` that:\n",
        "- Takes a number as input\n",
        "- Returns \"positive\" if the number is greater than 0\n",
        "- Returns \"negative\" if the number is less than 0\n",
        "- Returns \"zero\" if the number equals 0\n",
        "\n",
        "Test with numbers: 5, -3, 0"
      ]
    },
    {
      "cell_type": "code",
      "execution_count": 4,
      "id": "19ae4d41",
      "metadata": {
        "id": "19ae4d41"
      },
      "outputs": [
        {
          "name": "stdout",
          "output_type": "stream",
          "text": [
            "-5 is Negative\n",
            "0 is Zero\n",
            "3 is Positive\n"
          ]
        }
      ],
      "source": [
        "# My code here\n",
        "def Check_number(num):\n",
        "    if num > 0:\n",
        "        return \"Positive\"\n",
        "    elif num < 0:\n",
        "        return \"Negative\"\n",
        "    else:\n",
        "        return \"Zero\"\n",
        "num=[-5, 0, 3]\n",
        "for n in num:\n",
        "    print(f\"{n} is {Check_number(n)}\")"
      ]
    },
    {
      "cell_type": "markdown",
      "id": "c8b83226",
      "metadata": {
        "id": "c8b83226"
      },
      "source": [
        "## Question 5: String Operations\n",
        "\n",
        "Given the string `text = \"Python Programming\"`, perform the following operations:\n",
        "- Print the length of the string\n",
        "- Convert to uppercase\n",
        "- Convert to lowercase\n",
        "- Check if it starts with \"Python\"\n",
        "- Replace \"Programming\" with \"is Fun\""
      ]
    },
    {
      "cell_type": "code",
      "execution_count": 5,
      "id": "f8221848",
      "metadata": {
        "id": "f8221848"
      },
      "outputs": [
        {
          "name": "stdout",
          "output_type": "stream",
          "text": [
            "Original text: Python Programming\n",
            "Length: 18\n",
            "Uppercase: PYTHON PROGRAMMING\n",
            "Lowercase: python programming\n",
            "Starts with 'Python': True\n",
            "Replace 'Programming' with 'is Fun': Python is Fun\n"
          ]
        }
      ],
      "source": [
        "text = \"Python Programming\"\n",
        "def string_operations(text):\n",
        "    print(f\"Original text: {text}\")\n",
        "    print(f\"Length: {len(text)}\")\n",
        "    print(f\"Uppercase: {text.upper()}\")\n",
        "    print(f\"Lowercase: {text.lower()}\")\n",
        "    print(f\"Starts with 'Python': {text.startswith('Python')}\")\n",
        "    print(f\"Replace 'Programming' with 'is Fun': {text.replace('Programming', 'is Fun')}\")\n",
        "\n",
        "# Call the function to demonstrate the operations\n",
        "string_operations(text)\n"
      ]
    },
    {
      "cell_type": "markdown",
      "id": "61723857",
      "metadata": {
        "id": "61723857"
      },
      "source": [
        "## Question 6: Basic Lists\n",
        "\n",
        "Create a list called `fruits` with the following items: \"apple\", \"banana\", \"orange\", \"grape\"\n",
        "\n",
        "Then:\n",
        "- Print the first fruit\n",
        "- Print the last fruit\n",
        "- Add \"mango\" to the end of the list\n",
        "- Print the length of the list\n",
        "- Check if \"banana\" is in the list"
      ]
    },
    {
      "cell_type": "code",
      "execution_count": 6,
      "id": "3bc3bb66",
      "metadata": {
        "id": "3bc3bb66"
      },
      "outputs": [
        {
          "name": "stdout",
          "output_type": "stream",
          "text": [
            "First fruit: apple\n",
            "Last fruit: cherry\n",
            "Updated fruits list: ['apple', 'banana', 'cherry', 'Mango']\n",
            "List after removing 'banana': ['apple', 'cherry', 'Mango']\n"
          ]
        }
      ],
      "source": [
        "# My code here\n",
        "fruits = [\"apple\", \"banana\", \"cherry\"]\n",
        "print(f\"First fruit: {fruits[0]}\")\n",
        "print(f\"Last fruit: {fruits[-1]}\")\n",
        "fruits.append(\"Mango\")\n",
        "print(f\"Updated fruits list: {fruits}\")\n",
        "fruits.remove(\"banana\")\n",
        "print(f\"List after removing 'banana': {fruits}\")"
      ]
    },
    {
      "cell_type": "markdown",
      "id": "ae8ce51f",
      "metadata": {
        "id": "ae8ce51f"
      },
      "source": [
        "## Question 7: Simple Loop\n",
        "\n",
        "Write a function called `count_to_n` that:\n",
        "- Takes a number `n` as input\n",
        "- Prints all numbers from 1 to n (inclusive)\n",
        "- Test it with n = 5"
      ]
    },
    {
      "cell_type": "code",
      "execution_count": 7,
      "id": "af9b0da0",
      "metadata": {
        "id": "af9b0da0"
      },
      "outputs": [
        {
          "name": "stdout",
          "output_type": "stream",
          "text": [
            "1 2 3 4 5 \n"
          ]
        }
      ],
      "source": [
        "# My code here\n",
        "def count_to_n(n):\n",
        "    for i in range(1, n + 1):\n",
        "        print(i, end=' ')\n",
        "count_to_n(5)\n",
        "print()  "
      ]
    },
    {
      "cell_type": "markdown",
      "id": "2cc13587",
      "metadata": {
        "id": "2cc13587"
      },
      "source": [
        "## Question 8: Using Built-in Functions\n",
        "\n",
        "Given the list `numbers = [3, 7, 1, 9, 4, 6, 2]`, use built-in functions to find:\n",
        "- The maximum value\n",
        "- The minimum value\n",
        "- The sum of all numbers\n",
        "- The length of the list\n",
        "- A sorted version of the list (without modifying the original)"
      ]
    },
    {
      "cell_type": "code",
      "execution_count": 8,
      "id": "26746fbe",
      "metadata": {
        "id": "26746fbe"
      },
      "outputs": [
        {
          "name": "stdout",
          "output_type": "stream",
          "text": [
            "Maximum number: 9\n",
            "Minimum number: 1\n",
            "Sum of numbers: 32\n",
            "Length of list: 7\n",
            "Original numbers: [3, 7, 1, 9, 4, 6, 2]\n",
            "Sorted numbers: [1, 2, 3, 4, 6, 7, 9]\n"
          ]
        }
      ],
      "source": [
        "# Import builtins to restore the sum function\n",
        "import builtins\n",
        "sum = builtins.sum\n",
        "len = builtins.len\n",
        "\n",
        "numbers = [3, 7, 1, 9, 4, 6, 2]\n",
        "\n",
        "# My code here\n",
        "maximum = max(numbers)\n",
        "print(f\"Maximum number: {maximum}\")\n",
        "minimum = min(numbers)\n",
        "print(f\"Minimum number: {minimum}\")  \n",
        "total = sum(numbers)\n",
        "print(f\"Sum of numbers: {total}\")\n",
        "length = len(numbers)\n",
        "print(f\"Length of list: {length}\")\n",
        "sorted_numbers = sorted(numbers)\n",
        "print(f\"Original numbers: {numbers}\")\n",
        "print(f\"Sorted numbers: {sorted_numbers}\")"
      ]
    },
    {
      "cell_type": "markdown",
      "id": "35f186ed",
      "metadata": {
        "id": "35f186ed"
      },
      "source": [
        "## Question 9: String Formatting\n",
        "\n",
        "Create variables for a person's information:\n",
        "- `person_name = \"Alice\"`\n",
        "- `person_age = 25`\n",
        "- `person_city = \"New York\"`\n",
        "\n",
        "Use string formatting to create and print a message: \"Hello, my name is Alice, I am 25 years old and I live in New York.\""
      ]
    },
    {
      "cell_type": "code",
      "execution_count": 9,
      "id": "1017d81a",
      "metadata": {
        "id": "1017d81a"
      },
      "outputs": [
        {
          "name": "stdout",
          "output_type": "stream",
          "text": [
            "Hello, my name is Alice.I am 25 years old and I live in New York.\n"
          ]
        }
      ],
      "source": [
        "person_name = \"Alice\"\n",
        "person_age = 25\n",
        "person_city = \"New York\"\n",
        "\n",
        "# My code here\n",
        "print(f\"Hello, my name is {person_name}.I am {person_age} years old and I live in {person_city}.\")"
      ]
    },
    {
      "cell_type": "markdown",
      "id": "ac12b004",
      "metadata": {
        "id": "ac12b004"
      },
      "source": [
        "## Question 10: Simple Calculator\n",
        "\n",
        "Write a function called `simple_calculator` that:\n",
        "- Takes three parameters: `num1`, `operator` (as a string: \"+\", \"-\", \"*\", \"/\"), and `num2`\n",
        "- Returns the result of the operation\n",
        "- Test with: 10, \"+\", 5 and 20, \"/\", 4"
      ]
    },
    {
      "cell_type": "code",
      "execution_count": 10,
      "id": "e91743d6",
      "metadata": {
        "id": "e91743d6"
      },
      "outputs": [
        {
          "name": "stdout",
          "output_type": "stream",
          "text": [
            "The result of 10 + 5 is: 15\n",
            "The result of 20 / 4 is: 5.0\n"
          ]
        }
      ],
      "source": [
        "# My code here\n",
        "def simple_calculator(a, b, operation):\n",
        "    if operation == '+':\n",
        "        return a + b\n",
        "    elif operation == '-':\n",
        "        return a - b\n",
        "    elif operation == '*':\n",
        "        return a * b\n",
        "    elif operation == '/':\n",
        "        return a / b\n",
        "    else:\n",
        "        return \"Invalid operation\"\n",
        "num1=10\n",
        "num2=5\n",
        "operation = '+'\n",
        "result = simple_calculator(num1, num2, operation)\n",
        "print(f\"The result of {num1} {operation} {num2} is: {result}\")\n",
        "num1=20\n",
        "num2=4\n",
        "operation = '/'\n",
        "result = simple_calculator(num1, num2, operation)\n",
        "print(f\"The result of {num1} {operation} {num2} is: {result}\")"
      ]
    }
  ],
  "metadata": {
    "colab": {
      "provenance": []
    },
    "kernelspec": {
      "display_name": "Python 3",
      "language": "python",
      "name": "python3"
    },
    "language_info": {
      "codemirror_mode": {
        "name": "ipython",
        "version": 3
      },
      "file_extension": ".py",
      "mimetype": "text/x-python",
      "name": "python",
      "nbconvert_exporter": "python",
      "pygments_lexer": "ipython3",
      "version": "3.11.9"
    }
  },
  "nbformat": 4,
  "nbformat_minor": 5
}
