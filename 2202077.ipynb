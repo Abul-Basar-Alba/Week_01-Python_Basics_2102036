{
  "cells": [
    {
      "cell_type": "markdown",
      "id": "736887bb",
      "metadata": {
        "id": "736887bb"
      },
      "source": [
        "# Python Exercises - Easy Level\n",
        "\n",
        "These exercises test basic Python concepts including:\n",
        "- Variables and data types\n",
        "- Basic arithmetic operations\n",
        "- Simple functions\n",
        "- Basic conditionals\n",
        "- String operations\n",
        "- Lists and basic operations\n",
        "\n",
        "**Instructions:** Complete each exercise by writing Python code in the provided cells."
      ]
    },
    {
      "cell_type": "markdown",
      "id": "1fcc41ef",
      "metadata": {
        "id": "1fcc41ef"
      },
      "source": [
        "## Question 1: Variables and Data Types\n",
        "\n",
        "Create variables for the following:\n",
        "- `name` (string): Your name\n",
        "- `age` (integer): Your age\n",
        "- `height` (float): Your height in meters\n",
        "- `is_student` (boolean): Whether you are a student\n",
        "\n",
        "Print each variable along with its type."
      ]
    },
    {
      "cell_type": "code",
      "execution_count": 21,
      "id": "6aacf345",
      "metadata": {
        "id": "6aacf345"
      },
      "outputs": [
        {
          "name": "stdout",
          "output_type": "stream",
          "text": [
            "Noor Nehal Tanzim\n",
            "<class 'str'>\n",
            "22\n",
            "<class 'int'>\n",
            "5.8\n",
            "<class 'float'>\n",
            "True\n",
            "<class 'bool'>\n"
          ]
        }
      ],
      "source": [
        "# variables and data types \n",
        "\n",
        "Name = \"Noor Nehal Tanzim\"\n",
        "print(Name)\n",
        "print(type(Name))\n",
        "\n",
        "Age = 22\n",
        "print(Age)\n",
        "print(type(Age))\n",
        "\n",
        "Height = 5.8\n",
        "print(Height)\n",
        "print(type(Height))\n",
        "\n",
        "is_student = True\n",
        "print(is_student)\n",
        "print(type(is_student))\n",
        "\n"
      ]
    },
    {
      "cell_type": "markdown",
      "id": "2c1683e1",
      "metadata": {
        "id": "2c1683e1"
      },
      "source": [
        "## Question 2: Basic Arithmetic\n",
        "\n",
        "Given two numbers `a = 15` and `b = 4`, calculate and print:\n",
        "- Sum\n",
        "- Difference\n",
        "- Product\n",
        "- True division\n",
        "- Floor division\n",
        "- Remainder (modulus)\n",
        "- `a` raised to the power of `b`"
      ]
    },
    {
      "cell_type": "code",
      "execution_count": 22,
      "id": "86d758e2",
      "metadata": {
        "id": "86d758e2"
      },
      "outputs": [
        {
          "name": "stdout",
          "output_type": "stream",
          "text": [
            "sum  19\n",
            "difference  11\n",
            "prooduct 60\n",
            "true division 3.75\n",
            "floor division 3\n",
            "Remainder  3\n",
            "50625\n",
            "50625\n"
          ]
        }
      ],
      "source": [
        "a = 15\n",
        "b = 4\n",
        "\n",
        "s = a + b\n",
        "print(\"sum \",s)\n",
        "\n",
        "diff = a - b\n",
        "print(\"difference \",diff)\n",
        "\n",
        "p = a * b\n",
        "print(\"prooduct\",p)\n",
        "\n",
        "t_division = a / b\n",
        "print(\"true division\",t_division)\n",
        "\n",
        "f_division = a // b\n",
        "print(\"floor division\",f_division)\n",
        "\n",
        "rem = a % b\n",
        "print(\"Remainder \",rem)\n",
        "\n",
        "pow1 = a ** b\n",
        "print(pow1)\n",
        "print(pow(a,b)) \n",
        "\n"
      ]
    },
    {
      "cell_type": "markdown",
      "id": "e49abb2e",
      "metadata": {
        "id": "e49abb2e"
      },
      "source": [
        "## Question 3: Simple Function\n",
        "\n",
        "Write a function called `greet_user` that:\n",
        "- Takes a name as a parameter\n",
        "- Returns a greeting message like \"Hello, [name]!\"\n",
        "- Test it with your name"
      ]
    },
    {
      "cell_type": "code",
      "execution_count": 23,
      "id": "34a366ec",
      "metadata": {
        "id": "34a366ec"
      },
      "outputs": [
        {
          "name": "stdout",
          "output_type": "stream",
          "text": [
            "Hello,  Nehal\n"
          ]
        }
      ],
      "source": [
        "def greet_user(n):\n",
        "    print(\"Hello, \",n)\n",
        "    \n",
        "greet_user(\"Nehal\")"
      ]
    },
    {
      "cell_type": "markdown",
      "id": "f73d26e6",
      "metadata": {
        "id": "f73d26e6"
      },
      "source": [
        "## Question 4: Basic Conditionals\n",
        "\n",
        "Write a function called `check_number` that:\n",
        "- Takes a number as input\n",
        "- Returns \"positive\" if the number is greater than 0\n",
        "- Returns \"negative\" if the number is less than 0\n",
        "- Returns \"zero\" if the number equals 0\n",
        "\n",
        "Test with numbers: 5, -3, 0"
      ]
    },
    {
      "cell_type": "code",
      "execution_count": 24,
      "id": "19ae4d41",
      "metadata": {
        "id": "19ae4d41"
      },
      "outputs": [
        {
          "ename": "ValueError",
          "evalue": "invalid literal for int() with base 10: ''",
          "output_type": "error",
          "traceback": [
            "\u001b[31m---------------------------------------------------------------------------\u001b[39m",
            "\u001b[31mValueError\u001b[39m                                Traceback (most recent call last)",
            "\u001b[36mCell\u001b[39m\u001b[36m \u001b[39m\u001b[32mIn[24]\u001b[39m\u001b[32m, line 1\u001b[39m\n\u001b[32m----> \u001b[39m\u001b[32m1\u001b[39m A = \u001b[38;5;28;43mint\u001b[39;49m\u001b[43m(\u001b[49m\u001b[38;5;28;43minput\u001b[39;49m\u001b[43m(\u001b[49m\u001b[33;43m\"\u001b[39;49m\u001b[33;43mEnter a number: \u001b[39;49m\u001b[33;43m\"\u001b[39;49m\u001b[43m)\u001b[49m\u001b[43m)\u001b[49m\n\u001b[32m      3\u001b[39m \u001b[38;5;28;01mif\u001b[39;00m A > \u001b[32m0\u001b[39m:\n\u001b[32m      4\u001b[39m     \u001b[38;5;28mprint\u001b[39m(\u001b[33m\"\u001b[39m\u001b[33mPositive\u001b[39m\u001b[33m\"\u001b[39m)\n",
            "\u001b[31mValueError\u001b[39m: invalid literal for int() with base 10: ''"
          ]
        }
      ],
      "source": [
        "A = int(input(\"Enter a number: \"))\n",
        "\n",
        "if A > 0:\n",
        "    print(\"Positive\")\n",
        "    \n",
        "elif A < 0:\n",
        "    print(\"Negative\")\n",
        "    \n",
        "else:\n",
        "    print(\"Zero\")"
      ]
    },
    {
      "cell_type": "markdown",
      "id": "c8b83226",
      "metadata": {
        "id": "c8b83226"
      },
      "source": [
        "## Question 5: String Operations\n",
        "\n",
        "Given the string `text = \"Python Programming\"`, perform the following operations:\n",
        "- Print the length of the string\n",
        "- Convert to uppercase\n",
        "- Convert to lowercase\n",
        "- Check if it starts with \"Python\"\n",
        "- Replace \"Programming\" with \"is Fun\""
      ]
    },
    {
      "cell_type": "code",
      "execution_count": null,
      "id": "f8221848",
      "metadata": {
        "id": "f8221848"
      },
      "outputs": [
        {
          "name": "stdout",
          "output_type": "stream",
          "text": [
            "18\n",
            "PYTHON PROGRAMMING\n",
            "python programming\n",
            "Yes\n",
            "Python is fun\n"
          ]
        }
      ],
      "source": [
        "text = \"Python Programming\"\n",
        "\n",
        "print(len(text))\n",
        "\n",
        "print(text.upper())\n",
        "\n",
        "print(text.lower())\n",
        "\n",
        "if text.startswith(\"Python\"):\n",
        "    print(\"Yes\")\n",
        "    \n",
        "print(text.replace(\"Programming\", \"is fun\"))  \n",
        "\n",
        "\n",
        "          \n"
      ]
    },
    {
      "cell_type": "markdown",
      "id": "61723857",
      "metadata": {
        "id": "61723857"
      },
      "source": [
        "## Question 6: Basic Lists\n",
        "\n",
        "Create a list called `fruits` with the following items: \"apple\", \"banana\", \"orange\", \"grape\"\n",
        "\n",
        "Then:\n",
        "- Print the first fruit\n",
        "- Print the last fruit\n",
        "- Add \"mango\" to the end of the list\n",
        "- Print the length of the list\n",
        "- Check if \"banana\" is in the list"
      ]
    },
    {
      "cell_type": "code",
      "execution_count": null,
      "id": "3bc3bb66",
      "metadata": {
        "id": "3bc3bb66"
      },
      "outputs": [
        {
          "name": "stdout",
          "output_type": "stream",
          "text": [
            "apple\n",
            "grape\n",
            "['apple', 'banana', 'orange', 'grape', 'mango']\n",
            "5\n",
            "Banana is in fruits list\n"
          ]
        }
      ],
      "source": [
        "fruits = [\"apple\", \"banana\", \"orange\", \"grape\"]\n",
        "\n",
        "print(fruits[0])\n",
        "\n",
        "print(fruits[3])\n",
        "\n",
        "fruits.insert(4,\"mango\")\n",
        "print(fruits)\n",
        "\n",
        "print(len(fruits))\n",
        "\n",
        "if \"banana\" in fruits:\n",
        "    print(\"Banana is in fruits list\")\n",
        "\n"
      ]
    },
    {
      "cell_type": "markdown",
      "id": "ae8ce51f",
      "metadata": {
        "id": "ae8ce51f"
      },
      "source": [
        "## Question 7: Simple Loop\n",
        "\n",
        "Write a function called `count_to_n` that:\n",
        "- Takes a number `n` as input\n",
        "- Prints all numbers from 1 to n (inclusive)\n",
        "- Test it with n = 5"
      ]
    },
    {
      "cell_type": "code",
      "execution_count": null,
      "id": "af9b0da0",
      "metadata": {
        "id": "af9b0da0"
      },
      "outputs": [
        {
          "name": "stdout",
          "output_type": "stream",
          "text": [
            "1\n",
            "2\n",
            "3\n",
            "4\n",
            "5\n"
          ]
        }
      ],
      "source": [
        "def count_to_n(n):\n",
        "    for i in range(1, n + 1):\n",
        "        print(i)\n",
        "    \n",
        "count_to_n(5)"
      ]
    },
    {
      "cell_type": "markdown",
      "id": "2cc13587",
      "metadata": {
        "id": "2cc13587"
      },
      "source": [
        "## Question 8: Using Built-in Functions\n",
        "\n",
        "Given the list `numbers = [3, 7, 1, 9, 4, 6, 2]`, use built-in functions to find:\n",
        "- The maximum value\n",
        "- The minimum value\n",
        "- The sum of all numbers\n",
        "- The length of the list\n",
        "- A sorted version of the list (without modifying the original)"
      ]
    },
    {
      "cell_type": "code",
      "execution_count": null,
      "id": "26746fbe",
      "metadata": {
        "id": "26746fbe"
      },
      "outputs": [
        {
          "name": "stdout",
          "output_type": "stream",
          "text": [
            "9\n",
            "1\n",
            "32\n",
            "7\n",
            "[1, 2, 3, 4, 6, 7, 9]\n"
          ]
        }
      ],
      "source": [
        "numbers = [3, 7, 1, 9, 4, 6, 2]\n",
        "\n",
        "print(max(numbers))\n",
        "\n",
        "print(min(numbers))\n",
        "\n",
        "print(sum(numbers))\n",
        "\n",
        "print(len(numbers))\n",
        "\n",
        "print(sorted(numbers))"
      ]
    },
    {
      "cell_type": "markdown",
      "id": "35f186ed",
      "metadata": {
        "id": "35f186ed"
      },
      "source": [
        "## Question 9: String Formatting\n",
        "\n",
        "Create variables for a person's information:\n",
        "- `person_name = \"Alice\"`\n",
        "- `person_age = 25`\n",
        "- `person_city = \"New York\"`\n",
        "\n",
        "Use string formatting to create and print a message: \"Hello, my name is Alice, I am 25 years old and I live in New York.\""
      ]
    },
    {
      "cell_type": "code",
      "execution_count": null,
      "id": "1017d81a",
      "metadata": {
        "id": "1017d81a"
      },
      "outputs": [
        {
          "name": "stdout",
          "output_type": "stream",
          "text": [
            "Hello, my name is  Alice, I am 25 years old and i live in New York.\n"
          ]
        }
      ],
      "source": [
        "person_name = \"Alice\"\n",
        "person_age = 25\n",
        "person_city = \"New York\"\n",
        "\n",
        "print(f\"Hello, my name is  {person_name}, I am {person_age} years old and i live in {person_city}.\")"
      ]
    },
    {
      "cell_type": "markdown",
      "id": "ac12b004",
      "metadata": {
        "id": "ac12b004"
      },
      "source": [
        "## Question 10: Simple Calculator\n",
        "\n",
        "Write a function called `simple_calculator` that:\n",
        "- Takes three parameters: `num1`, `operator` (as a string: \"+\", \"-\", \"*\", \"/\"), and `num2`\n",
        "- Returns the result of the operation\n",
        "- Test with: 10, \"+\", 5 and 20, \"/\", 4"
      ]
    },
    {
      "cell_type": "code",
      "execution_count": null,
      "id": "e91743d6",
      "metadata": {
        "id": "e91743d6"
      },
      "outputs": [
        {
          "name": "stdout",
          "output_type": "stream",
          "text": [
            "20 / 4 = 5.0\n"
          ]
        }
      ],
      "source": [
        "def simple_function(num1, operator, num2, result):\n",
        "    print(f\"{num1} {operator} {num2} = {result}\")\n",
        "    \n",
        "num1 = int(input())\n",
        "operator = input()\n",
        "num2 = int(input())\n",
        "result = num1 + num2 if operator == \"+\" else num1 - num2 if operator == \"-\" else num1 * num2 if operator == \"*\" else num1 / num2 if operator == \"/\" else \"invalid\" \n",
        "\n",
        "simple_function(num1,operator,num2,result)"
      ]
    }
  ],
  "metadata": {
    "colab": {
      "provenance": []
    },
    "kernelspec": {
      "display_name": "Python 3",
      "language": "python",
      "name": "python3"
    },
    "language_info": {
      "codemirror_mode": {
        "name": "ipython",
        "version": 3
      },
      "file_extension": ".py",
      "mimetype": "text/x-python",
      "name": "python",
      "nbconvert_exporter": "python",
      "pygments_lexer": "ipython3",
      "version": "3.12.10"
    }
  },
  "nbformat": 4,
  "nbformat_minor": 5
}
