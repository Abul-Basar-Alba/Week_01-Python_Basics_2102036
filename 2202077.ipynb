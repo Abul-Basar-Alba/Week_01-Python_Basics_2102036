{
  "cells": [
    {
      "cell_type": "markdown",
      "id": "736887bb",
      "metadata": {
        "id": "736887bb"
      },
      "source": [
        "# Python Exercises - Easy Level\n",
        "\n",
        "These exercises test basic Python concepts including:\n",
        "- Variables and data types\n",
        "- Basic arithmetic operations\n",
        "- Simple functions\n",
        "- Basic conditionals\n",
        "- String operations\n",
        "- Lists and basic operations\n",
        "\n",
        "**Instructions:** Complete each exercise by writing Python code in the provided cells."
      ]
    },
    {
      "cell_type": "markdown",
      "id": "1fcc41ef",
      "metadata": {
        "id": "1fcc41ef"
      },
      "source": [
        "## Question 1: Variables and Data Types\n",
        "\n",
        "Create variables for the following:\n",
        "- `name` (string): Your name\n",
        "- `age` (integer): Your age\n",
        "- `height` (float): Your height in meters\n",
        "- `is_student` (boolean): Whether you are a student\n",
        "\n",
        "Print each variable along with its type."
      ]
    },
    {
      "cell_type": "code",
      "execution_count": 1,
      "id": "6aacf345",
      "metadata": {
        "id": "6aacf345"
      },
      "outputs": [],
      "source": [
        "# Question 1: variables and data types\n",
        "name = \"Noor Nehal Tanzim\"\n",
        "age = 22\n",
        "height = 5.8  # in meters\n",
        "is_student = True\n",
        "\n",
        "print(name)\n",
        "print(type(name))\n",
        "\n",
        "print(age)\n",
        "print(type(age))\n",
        "\n",
        "print(height)\n",
        "print(type(height))\n",
        "\n",
        "print(is_student)\n",
        "print(type(is_student))\n"
      ]
    },
    {
      "cell_type": "markdown",
      "id": "2c1683e1",
      "metadata": {
        "id": "2c1683e1"
      },
      "source": [
        "## Question 2: Basic Arithmetic\n",
        "\n",
        "Given two numbers `a = 15` and `b = 4`, calculate and print:\n",
        "- Sum\n",
        "- Difference\n",
        "- Product\n",
        "- True division\n",
        "- Floor division\n",
        "- Remainder (modulus)\n",
        "- `a` raised to the power of `b`"
      ]
    },
    {
      "cell_type": "code",
      "execution_count": 2,
      "id": "86d758e2",
      "metadata": {
        "id": "86d758e2"
      },
      "outputs": [],
      "source": [
        "# Question 2: Basic Arithmetic\n",
        "a = 15\n",
        "b = 4\n",
        "\n",
        "print('sum', a + b)\n",
        "print('difference', a - b)\n",
        "print('product', a * b)\n",
        "print('true division', a / b)\n",
        "print('floor division', a // b)\n",
        "print('remainder', a % b)\n",
        "print('power (a**b):', a ** b)\n"
      ]
    },
    {
      "cell_type": "markdown",
      "id": "e49abb2e",
      "metadata": {
        "id": "e49abb2e"
      },
      "source": [
        "## Question 3: Simple Function\n",
        "\n",
        "Write a function called `greet_user` that:\n",
        "- Takes a name as a parameter\n",
        "- Returns a greeting message like \"Hello, [name]!\"\n",
        "- Test it with your name"
      ]
    },
    {
      "cell_type": "code",
      "execution_count": 3,
      "id": "34a366ec",
      "metadata": {
        "id": "34a366ec"
      },
      "outputs": [],
      "source": [
        "# Question 3: greet_user returns a string\n",
        "def greet_user(n):\n",
        "    return f\"Hello, {n}!\"\n",
        "\n",
        "# test\n",
        "print(greet_user('Nehal'))\n"
      ]
    },
    {
      "cell_type": "markdown",
      "id": "f73d26e6",
      "metadata": {
        "id": "f73d26e6"
      },
      "source": [
        "## Question 4: Basic Conditionals\n",
        "\n",
        "Write a function called `check_number` that:\n",
        "- Takes a number as input\n",
        "- Returns \"positive\" if the number is greater than 0\n",
        "- Returns \"negative\" if the number is less than 0\n",
        "- Returns \"zero\" if the number equals 0\n",
        "\n",
        "Test with numbers: 5, -3, 0"
      ]
    },
    {
      "cell_type": "code",
      "execution_count": 4,
      "id": "19ae4d41",
      "metadata": {
        "id": "19ae4d41"
      },
      "outputs": [],
      "source": [
        "# Question 4: check_number as a function (no input())\n",
        "def check_number(num):\n",
        "    if num > 0:\n",
        "        return 'positive'\n",
        "    elif num < 0:\n",
        "        return 'negative'\n",
        "    else:\n",
        "        return 'zero'\n",
        "\n",
        "# tests\n",
        "print(check_number(5))\n",
        "print(check_number(-3))\n",
        "print(check_number(0))\n"
      ]
    },
    {
      "cell_type": "markdown",
      "id": "c8b83226",
      "metadata": {
        "id": "c8b83226"
      },
      "source": [
        "## Question 5: String Operations\n",
        "\n",
        "Given the string `text = \"Python Programming\"`, perform the following operations:\n",
        "- Print the length of the string\n",
        "- Convert to uppercase\n",
        "- Convert to lowercase\n",
        "- Check if it starts with \"Python\"\n",
        "- Replace \"Programming\" with \"is Fun\""
      ]
    },
    {
      "cell_type": "code",
      "execution_count": 5,
      "id": "f8221848",
      "metadata": {
        "id": "f8221848"
      },
      "outputs": [],
      "source": [
        "text = 'Python Programming'\n",
        "\n",
        "print(len(text))\n",
        "print(text.upper())\n",
        "print(text.lower())\n",
        "print('Yes' if text.startswith('Python') else 'No')\n",
        "print(text.replace('Programming', 'is fun'))\n"
      ]
    },
    {
      "cell_type": "markdown",
      "id": "61723857",
      "metadata": {
        "id": "61723857"
      },
      "source": [
        "## Question 6: Basic Lists\n",
        "\n",
        "Create a list called `fruits` with the following items: \"apple\", \"banana\", \"orange\", \"grape\"\n",
        "\n",
        "Then:\n",
        "- Print the first fruit\n",
        "- Print the last fruit\n",
        "- Add \"mango\" to the end of the list\n",
        "- Print the length of the list\n",
        "- Check if \"banana\" is in the list"
      ]
    },
    {
      "cell_type": "code",
      "execution_count": 6,
      "id": "3bc3bb66",
      "metadata": {
        "id": "3bc3bb66"
      },
      "outputs": [],
      "source": [
        "fruits = ['apple', 'banana', 'orange', 'grape']\n",
        "\n",
        "# first fruit\n",
        "print(fruits[0])\n",
        "\n",
        "# last fruit (robust)\n",
        "print(fruits[-1])\n",
        "\n",
        "# add mango to the end\n",
        "fruits.append('mango')\n",
        "print(fruits)\n",
        "\n",
        "# length\n",
        "print(len(fruits))\n",
        "\n",
        "# membership test\n",
        "if 'banana' in fruits:\n",
        "    print('Banana is in fruits list')\n"
      ]
    },
    {
      "cell_type": "markdown",
      "id": "ae8ce51f",
      "metadata": {
        "id": "ae8ce51f"
      },
      "source": [
        "## Question 7: Simple Loop\n",
        "\n",
        "Write a function called `count_to_n` that:\n",
        "- Takes a number `n` as input\n",
        "- Prints all numbers from 1 to n (inclusive)\n",
        "- Test it with n = 5"
      ]
    },
    {
      "cell_type": "code",
      "execution_count": 7,
      "id": "af9b0da0",
      "metadata": {
        "id": "af9b0da0"
      },
      "outputs": [],
      "source": [
        "def count_to_n(n):\n",
        "    for i in range(1, n + 1):\n",
        "        print(i)\n",
        "\n",
        "# test\n",
        "count_to_n(5)\n"
      ]
    },
    {
      "cell_type": "markdown",
      "id": "2cc13587",
      "metadata": {
        "id": "2cc13587"
      },
      "source": [
        "## Question 8: Using Built-in Functions\n",
        "\n",
        "Given the list `numbers = [3, 7, 1, 9, 4, 6, 2]`, use built-in functions to find:\n",
        "- The maximum value\n",
        "- The minimum value\n",
        "- The sum of all numbers\n",
        "- The length of the list\n",
        "- A sorted version of the list (without modifying the original)"
      ]
    },
    {
      "cell_type": "code",
      "execution_count": 8,
      "id": "26746fbe",
      "metadata": {
        "id": "26746fbe"
      },
      "outputs": [],
      "source": [
        "numbers = [3, 7, 1, 9, 4, 6, 2]\n",
        "\n",
        "print(max(numbers))\n",
        "print(min(numbers))\n",
        "print(sum(numbers))\n",
        "print(len(numbers))\n",
        "print(sorted(numbers))\n"
      ]
    },
    {
      "cell_type": "markdown",
      "id": "35f186ed",
      "metadata": {
        "id": "35f186ed"
      },
      "source": [
        "## Question 9: String Formatting\n",
        "\n",
        "Create variables for a person's information:\n",
        "- `person_name = \"Alice\"`\n",
        "- `person_age = 25`\n",
        "- `person_city = \"New York\"`\n",
        "\n",
        "Use string formatting to create and print a message: \"Hello, my name is Alice, I am 25 years old and I live in New York.\""
      ]
    },
    {
      "cell_type": "code",
      "execution_count": 9,
      "id": "1017d81a",
      "metadata": {
        "id": "1017d81a"
      },
      "outputs": [],
      "source": [
        "person_name = 'Alice'\n",
        "person_age = 25\n",
        "person_city = 'New York'\n",
        "\n",
        "print(f\"Hello, my name is {person_name}, I am {person_age} years old and I live in {person_city}.\")\n"
      ]
    },
    {
      "cell_type": "markdown",
      "id": "ac12b004",
      "metadata": {
        "id": "ac12b004"
      },
      "source": [
        "## Question 10: Simple Calculator\n",
        "\n",
        "Write a function called `simple_calculator` that:\n",
        "- Takes three parameters: `num1`, `operator` (as a string: \"+\", \"-\", \"*\", \"/\"), and `num2`\n",
        "- Returns the result of the operation\n",
        "- Test with: 10, \"+\", 5 and 20, \"/\", 4"
      ]
    },
    {
      "cell_type": "code",
      "execution_count": 10,
      "id": "e91743d6",
      "metadata": {
        "id": "e91743d6"
      },
      "outputs": [],
      "source": [
        "# Question 10: Simple Calculator (function version, no input())\n",
        "def simple_calculator(num1, operator, num2):\n",
        "    if operator == '+':\n",
        "        return num1 + num2\n",
        "    elif operator == '-':\n",
        "        return num1 - num2\n",
        "    elif operator == '*':\n",
        "        return num1 * num2\n",
        "    elif operator == '/':\n",
        "        if num2 == 0:\n",
        "            return 'Error: division by zero'\n",
        "        return num1 / num2\n",
        "    else:\n",
        "        return 'Error: invalid operator'\n",
        "\n",
        "# tests\n",
        "print('10 + 5 =', simple_calculator(10, '+', 5))\n",
        "print('20 / 4 =', simple_calculator(20, '/', 4))\n"
      ]
    }
  ],
  "metadata": {
    "kernelspec": {
      "display_name": "Python 3",
      "language": "python",
      "name": "python3"
    },
    "language_info": {
      "codemirror_mode": {
        "name": "ipython",
        "version": 3
      },
      "file_extension": ".py",
      "mimetype": "text/x-python",
      "name": "python",
      "nbconvert_exporter": "python",
      "pygments_lexer": "ipython3",
      "version": "3.12.10"
    }
  },
  "nbformat": 4,
  "nbformat_minor": 5
}